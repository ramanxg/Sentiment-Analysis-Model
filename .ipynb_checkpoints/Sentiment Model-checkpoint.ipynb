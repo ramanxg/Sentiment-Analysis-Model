{
 "cells": [
  {
   "cell_type": "code",
   "execution_count": 1,
   "metadata": {},
   "outputs": [],
   "source": [
    "import tensorflow as tf\n",
    "from tensorflow.keras.models import load_model"
   ]
  },
  {
   "cell_type": "code",
   "execution_count": 2,
   "metadata": {},
   "outputs": [
    {
     "name": "stderr",
     "output_type": "stream",
     "text": [
      "WARNING: Logging before flag parsing goes to stderr.\n",
      "W0802 20:26:46.144310 18776 deprecation.py:323] From c:\\users\\user\\appdata\\local\\programs\\python\\python37\\lib\\site-packages\\tensorflow\\python\\ops\\math_grad.py:1250: add_dispatch_support.<locals>.wrapper (from tensorflow.python.ops.array_ops) is deprecated and will be removed in a future version.\n",
      "Instructions for updating:\n",
      "Use tf.where in 2.0, which has the same broadcast rule as np.where\n"
     ]
    }
   ],
   "source": [
    "model = load_model('sentimentmodel2.h5')"
   ]
  },
  {
   "cell_type": "code",
   "execution_count": 19,
   "metadata": {},
   "outputs": [],
   "source": [
    "import pickle\n",
    "\n",
    "with open('tokenizer.pickle', 'rb') as handle:\n",
    "    tokenizer = pickle.load(handle)\n",
    "    \n"
   ]
  },
  {
   "cell_type": "code",
   "execution_count": 27,
   "metadata": {},
   "outputs": [
    {
     "name": "stdout",
     "output_type": "stream",
     "text": [
      "[4]\n"
     ]
    }
   ],
   "source": [
    "import re\n",
    "import nltk\n",
    "from nltk.tokenize import word_tokenize\n",
    "from nltk.stem import WordNetLemmatizer\n",
    "from tensorflow.keras.preprocessing import sequence\n",
    "\n",
    "max_sentence_length = 48\n",
    "lemmatizer = WordNetLemmatizer()\n",
    "def process_text(s):\n",
    "    \n",
    "    replaced = re.sub(r'[^a-zA-z0-9\\s]','', s.lower())\n",
    "\n",
    "    #tokenize words\n",
    "    words = word_tokenize(replaced)\n",
    "\n",
    "    #remove common words\n",
    "    #filtered_sentence = [w for w in words if not w in stop_words]\n",
    "\n",
    "    #lemmatize words\n",
    "    #lexicon = filtered_sentence\n",
    "    lexicon = [lemmatizer.lemmatize(i) for i in words]\n",
    "    t = tokenizer.texts_to_sequences([lexicon])\n",
    "    p =  sequence.pad_sequences(t, maxlen=max_sentence_length)\n",
    "    return p\n",
    "\n",
    "prediction = model.predict_classes(process_text(\"I love this movie. the plot was great\"))\n",
    "\n",
    "print(prediction)"
   ]
  },
  {
   "cell_type": "code",
   "execution_count": 28,
   "metadata": {},
   "outputs": [
    {
     "data": {
      "text/plain": [
       "'Very Positive'"
      ]
     },
     "execution_count": 28,
     "metadata": {},
     "output_type": "execute_result"
    }
   ],
   "source": [
    "def process_prediction(prediction):\n",
    "    if prediction == 0:\n",
    "        return \"Very Negative\"\n",
    "    elif prediction == 1:\n",
    "        return \"Somewhat Negative\"\n",
    "    elif prediction == 2:\n",
    "        return \"Neutral\"\n",
    "    elif prediction == 3:\n",
    "        return \"Somewhat Positive\"\n",
    "    elif prediction == 4:\n",
    "        return \"Very Positive\"\n",
    "    \n",
    "process_prediction(prediction[0])\n",
    "    "
   ]
  }
 ],
 "metadata": {
  "kernelspec": {
   "display_name": "Python 3",
   "language": "python",
   "name": "python3"
  },
  "language_info": {
   "codemirror_mode": {
    "name": "ipython",
    "version": 3
   },
   "file_extension": ".py",
   "mimetype": "text/x-python",
   "name": "python",
   "nbconvert_exporter": "python",
   "pygments_lexer": "ipython3",
   "version": "3.7.3"
  }
 },
 "nbformat": 4,
 "nbformat_minor": 2
}
