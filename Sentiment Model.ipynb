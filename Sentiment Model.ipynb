{
 "cells": [
  {
   "cell_type": "code",
   "execution_count": 2,
   "metadata": {},
   "outputs": [],
   "source": [
    "import tensorflow as tf\n",
    "from tensorflow.keras.models import load_model"
   ]
  },
  {
   "cell_type": "code",
   "execution_count": 3,
   "metadata": {},
   "outputs": [
    {
     "name": "stderr",
     "output_type": "stream",
     "text": [
      "WARNING: Logging before flag parsing goes to stderr.\n",
      "W0805 19:09:42.697374   248 deprecation.py:506] From c:\\users\\user\\appdata\\local\\programs\\python\\python37\\lib\\site-packages\\tensorflow\\python\\keras\\initializers.py:119: calling RandomUniform.__init__ (from tensorflow.python.ops.init_ops) with dtype is deprecated and will be removed in a future version.\n",
      "Instructions for updating:\n",
      "Call initializer instance with the dtype argument instead of passing it to the constructor\n",
      "W0805 19:09:42.738265   248 deprecation.py:506] From c:\\users\\user\\appdata\\local\\programs\\python\\python37\\lib\\site-packages\\tensorflow\\python\\ops\\init_ops.py:1251: calling VarianceScaling.__init__ (from tensorflow.python.ops.init_ops) with dtype is deprecated and will be removed in a future version.\n",
      "Instructions for updating:\n",
      "Call initializer instance with the dtype argument instead of passing it to the constructor\n"
     ]
    }
   ],
   "source": [
    "model = load_model('sentimentmodel2.h5')"
   ]
  },
  {
   "cell_type": "code",
   "execution_count": 4,
   "metadata": {},
   "outputs": [],
   "source": [
    "import pickle\n",
    "\n",
    "with open('tokenizer.pickle', 'rb') as handle:\n",
    "    tokenizer = pickle.load(handle)\n",
    "    \n"
   ]
  },
  {
   "cell_type": "code",
   "execution_count": 52,
   "metadata": {},
   "outputs": [
    {
     "name": "stdout",
     "output_type": "stream",
     "text": [
      "[4 4]\n"
     ]
    }
   ],
   "source": [
    "import re\n",
    "import nltk\n",
    "from nltk.tokenize import word_tokenize\n",
    "from nltk.stem import WordNetLemmatizer\n",
    "from tensorflow.keras.preprocessing import sequence\n",
    "\n",
    "max_sentence_length = model.layers[0].input_shape[1]\n",
    "lemmatizer = WordNetLemmatizer()\n",
    "def process_text(texts):\n",
    "    sentences = []\n",
    "    for s in texts:\n",
    "        replaced = re.sub(r'[^a-zA-z0-9\\s]','', s.lower())\n",
    "\n",
    "        #tokenize words\n",
    "        words = word_tokenize(replaced)\n",
    "\n",
    "        #remove common words\n",
    "        #filtered_sentence = [w for w in words if not w in stop_words]\n",
    "\n",
    "        #lemmatize words\n",
    "        #lexicon = filtered_sentence\n",
    "        lexicon = [lemmatizer.lemmatize(i) for i in words]\n",
    "        sentences.append(lexicon)\n",
    "        \n",
    "    t = tokenizer.texts_to_sequences(sentences)\n",
    "    p =  sequence.pad_sequences(t, maxlen=max_sentence_length)\n",
    "    return p\n",
    "\n",
    "prediction = model.predict_classes(process_text([\"I love this movie. the plot was great\", \"I love this movie. the plot was great\"]))\n",
    "\n",
    "print(prediction)"
   ]
  },
  {
   "cell_type": "code",
   "execution_count": 83,
   "metadata": {},
   "outputs": [
    {
     "data": {
      "text/plain": [
       "'Very Positive'"
      ]
     },
     "execution_count": 83,
     "metadata": {},
     "output_type": "execute_result"
    }
   ],
   "source": [
    "def process_prediction(prediction):\n",
    "    if prediction <= 1:\n",
    "        return \"Very Negative\"\n",
    "    elif prediction <= 1.9:\n",
    "        return \"Somewhat Negative\"\n",
    "    elif 1.9 <= prediction <= 2.1:\n",
    "        return \"Neutral\"\n",
    "    elif prediction <= 3:\n",
    "        return \"Somewhat Positive\"\n",
    "    else:\n",
    "        return \"Very Positive\"\n",
    "    \n",
    "process_prediction(prediction[0])\n",
    "    "
   ]
  },
  {
   "cell_type": "code",
   "execution_count": 12,
   "metadata": {},
   "outputs": [],
   "source": [
    "import tweepy"
   ]
  },
  {
   "cell_type": "code",
   "execution_count": 22,
   "metadata": {},
   "outputs": [],
   "source": [
    "CONSUMER_KEY = 'xtN9VUIDAyS5eoLC0gg035jQV'\n",
    "CONSUMER_SECRET = 'kXla9AOJebgLARddBBMMwsBcbewWoZIWApoYffUcSMBPVvlffK'\n",
    "ACCESS_TOKEN = '1053917274-KJg5VGA0JUki68TrWTuT5f54t83AhGseXKML1Jg'\n",
    "ACCESS_TOKEN_SECRET = 'ZJOhe3vk2x7145M641OIYUHHTEbi2LmMuIcLJNErH6VGD'\n",
    "\n",
    "auth = tweepy.OAuthHandler(CONSUMER_KEY, CONSUMER_SECRET)\n",
    "auth.set_access_token(ACCESS_TOKEN, ACCESS_TOKEN_SECRET)\n",
    "api = tweepy.API(auth)\n"
   ]
  },
  {
   "cell_type": "code",
   "execution_count": 72,
   "metadata": {},
   "outputs": [],
   "source": [
    "def get_dataset(query):\n",
    "    results = api.search(query, count=100, lang='en')\n",
    "    texts = [tweet.text for tweet in results]\n",
    "    print(len(texts))\n",
    "    return texts\n"
   ]
  },
  {
   "cell_type": "code",
   "execution_count": 102,
   "metadata": {},
   "outputs": [
    {
     "name": "stdout",
     "output_type": "stream",
     "text": [
      "83\n"
     ]
    }
   ],
   "source": [
    "data = get_dataset(\"beyonce\")\n",
    "inputs = process_text(data)\n",
    "prediction = model.predict_classes(inputs)\n"
   ]
  },
  {
   "cell_type": "code",
   "execution_count": 103,
   "metadata": {},
   "outputs": [
    {
     "name": "stdout",
     "output_type": "stream",
     "text": [
      "Average Sentiment is  2.5542168674698793\n",
      "Somewhat Positive\n"
     ]
    }
   ],
   "source": [
    "import numpy as np\n",
    "\n",
    "average = np.sum(prediction) / len(prediction)\n",
    "print(\"Average Sentiment is \", average )\n",
    "print(process_prediction(float(average)))"
   ]
  },
  {
   "cell_type": "code",
   "execution_count": 130,
   "metadata": {},
   "outputs": [
    {
     "name": "stdout",
     "output_type": "stream",
     "text": [
      "<Response [200]>\n",
      "{'prediction': 'Somewhat Negative', 'sentiment': 1.7127659574468086}\n"
     ]
    }
   ],
   "source": [
    "import requests\n",
    "url = 'https://g-sentiment.herokuapp.com/'\n",
    "params ={'query': 'Trump'}\n",
    "response = requests.get(url, params)\n",
    "print(response)\n",
    "x = response.json()\n",
    "print(x)"
   ]
  }
 ],
 "metadata": {
  "kernelspec": {
   "display_name": "Python 3",
   "language": "python",
   "name": "python3"
  },
  "language_info": {
   "codemirror_mode": {
    "name": "ipython",
    "version": 3
   },
   "file_extension": ".py",
   "mimetype": "text/x-python",
   "name": "python",
   "nbconvert_exporter": "python",
   "pygments_lexer": "ipython3",
   "version": "3.7.3"
  }
 },
 "nbformat": 4,
 "nbformat_minor": 2
}
